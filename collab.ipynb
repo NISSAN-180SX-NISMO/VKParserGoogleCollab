{
 "cells": [
  {
   "cell_type": "code",
   "execution_count": 16,
   "metadata": {
    "collapsed": true,
    "ExecuteTime": {
     "start_time": "2023-05-19T00:32:58.220104Z",
     "end_time": "2023-05-19T00:33:24.158264Z"
    }
   },
   "outputs": [
    {
     "name": "stdout",
     "output_type": "stream",
     "text": [
      "Requirement already satisfied: pandas in c:\\users\\evalv\\appdata\\local\\programs\\python\\python39\\lib\\site-packages (2.0.1)\n",
      "Requirement already satisfied: numpy>=1.20.3 in c:\\users\\evalv\\appdata\\local\\programs\\python\\python39\\lib\\site-packages (from pandas) (1.24.3)\n",
      "Requirement already satisfied: pytz>=2020.1 in c:\\users\\evalv\\appdata\\local\\programs\\python\\python39\\lib\\site-packages (from pandas) (2021.3)\n",
      "Requirement already satisfied: tzdata>=2022.1 in c:\\users\\evalv\\appdata\\local\\programs\\python\\python39\\lib\\site-packages (from pandas) (2023.3)\n",
      "Requirement already satisfied: python-dateutil>=2.8.2 in c:\\users\\evalv\\appdata\\local\\programs\\python\\python39\\lib\\site-packages (from pandas) (2.8.2)\n",
      "Requirement already satisfied: six>=1.5 in c:\\users\\evalv\\appdata\\local\\programs\\python\\python39\\lib\\site-packages (from python-dateutil>=2.8.2->pandas) (1.16.0)\n"
     ]
    },
    {
     "name": "stderr",
     "output_type": "stream",
     "text": [
      "WARNING: You are using pip version 21.2.4; however, version 23.1.2 is available.\n",
      "You should consider upgrading via the 'C:\\Users\\evalv\\AppData\\Local\\Programs\\Python\\Python39\\python.exe -m pip install --upgrade pip' command.\n"
     ]
    },
    {
     "name": "stdout",
     "output_type": "stream",
     "text": [
      "Collecting google.colab"
     ]
    },
    {
     "name": "stderr",
     "output_type": "stream",
     "text": [
      "ERROR: Could not install packages due to an OSError: [WinError 5] Отказано в доступе: 'C:\\\\Users\\\\evalv\\\\AppData\\\\Local\\\\Programs\\\\Python\\\\Python39\\\\Lib\\\\site-packages\\\\~ornado\\\\speedups.pyd'\n",
      "Consider using the `--user` option or check the permissions.\n",
      "\n",
      "WARNING: You are using pip version 21.2.4; however, version 23.1.2 is available.\n",
      "You should consider upgrading via the 'C:\\Users\\evalv\\AppData\\Local\\Programs\\Python\\Python39\\python.exe -m pip install --upgrade pip' command.\n"
     ]
    },
    {
     "name": "stdout",
     "output_type": "stream",
     "text": [
      "\n",
      "  Downloading google-colab-1.0.0.tar.gz (72 kB)\n",
      "Collecting google-auth~=1.4.0\n",
      "  Downloading google_auth-1.4.2-py2.py3-none-any.whl (64 kB)\n",
      "Collecting ipykernel~=4.6.0\n",
      "  Downloading ipykernel-4.6.1-py3-none-any.whl (104 kB)\n",
      "Collecting ipython~=5.5.0\n",
      "  Downloading ipython-5.5.0-py3-none-any.whl (758 kB)\n",
      "Collecting notebook~=5.2.0\n",
      "  Downloading notebook-5.2.2-py2.py3-none-any.whl (8.0 MB)\n",
      "Collecting six~=1.12.0\n",
      "  Downloading six-1.12.0-py2.py3-none-any.whl (10 kB)\n",
      "Collecting pandas~=0.24.0\n",
      "  Downloading pandas-0.24.2.tar.gz (11.8 MB)\n",
      "Collecting portpicker~=1.2.0\n",
      "  Downloading portpicker-1.2.0.tar.gz (17 kB)\n",
      "Collecting requests~=2.21.0\n",
      "  Downloading requests-2.21.0-py2.py3-none-any.whl (57 kB)\n",
      "Collecting tornado~=4.5.0\n",
      "  Downloading tornado-4.5.3.tar.gz (484 kB)\n",
      "Requirement already satisfied: cachetools>=2.0.0 in c:\\users\\evalv\\appdata\\local\\programs\\python\\python39\\lib\\site-packages (from google-auth~=1.4.0->google.colab) (4.2.4)\n",
      "Requirement already satisfied: pyasn1-modules>=0.2.1 in c:\\users\\evalv\\appdata\\local\\programs\\python\\python39\\lib\\site-packages (from google-auth~=1.4.0->google.colab) (0.2.8)\n",
      "Requirement already satisfied: rsa>=3.1.4 in c:\\users\\evalv\\appdata\\local\\programs\\python\\python39\\lib\\site-packages (from google-auth~=1.4.0->google.colab) (4.7.2)\n",
      "Requirement already satisfied: jupyter-client in c:\\users\\evalv\\appdata\\local\\programs\\python\\python39\\lib\\site-packages (from ipykernel~=4.6.0->google.colab) (8.2.0)\n",
      "Requirement already satisfied: traitlets>=4.1.0 in c:\\users\\evalv\\appdata\\local\\programs\\python\\python39\\lib\\site-packages (from ipykernel~=4.6.0->google.colab) (5.9.0)\n",
      "Collecting prompt-toolkit<2.0.0,>=1.0.4\n",
      "  Downloading prompt_toolkit-1.0.18-py3-none-any.whl (245 kB)\n",
      "Requirement already satisfied: pygments in c:\\users\\evalv\\appdata\\local\\programs\\python\\python39\\lib\\site-packages (from ipython~=5.5.0->google.colab) (2.15.1)\n",
      "Collecting simplegeneric>0.8\n",
      "  Downloading simplegeneric-0.8.1.zip (12 kB)\n",
      "Requirement already satisfied: decorator in c:\\users\\evalv\\appdata\\local\\programs\\python\\python39\\lib\\site-packages (from ipython~=5.5.0->google.colab) (5.1.1)\n",
      "Requirement already satisfied: pickleshare in c:\\users\\evalv\\appdata\\local\\programs\\python\\python39\\lib\\site-packages (from ipython~=5.5.0->google.colab) (0.7.5)\n",
      "Requirement already satisfied: setuptools>=18.5 in c:\\users\\evalv\\appdata\\local\\programs\\python\\python39\\lib\\site-packages (from ipython~=5.5.0->google.colab) (58.1.0)\n",
      "Requirement already satisfied: colorama in c:\\users\\evalv\\appdata\\local\\programs\\python\\python39\\lib\\site-packages (from ipython~=5.5.0->google.colab) (0.4.6)\n",
      "Requirement already satisfied: jinja2 in c:\\users\\evalv\\appdata\\local\\programs\\python\\python39\\lib\\site-packages (from notebook~=5.2.0->google.colab) (3.0.2)\n",
      "Requirement already satisfied: jupyter-core in c:\\users\\evalv\\appdata\\local\\programs\\python\\python39\\lib\\site-packages (from notebook~=5.2.0->google.colab) (5.3.0)\n",
      "Requirement already satisfied: nbconvert in c:\\users\\evalv\\appdata\\local\\programs\\python\\python39\\lib\\site-packages (from notebook~=5.2.0->google.colab) (7.4.0)\n",
      "Requirement already satisfied: ipython-genutils in c:\\users\\evalv\\appdata\\local\\programs\\python\\python39\\lib\\site-packages (from notebook~=5.2.0->google.colab) (0.2.0)\n",
      "Requirement already satisfied: nbformat in c:\\users\\evalv\\appdata\\local\\programs\\python\\python39\\lib\\site-packages (from notebook~=5.2.0->google.colab) (5.8.0)\n",
      "Requirement already satisfied: python-dateutil>=2.5.0 in c:\\users\\evalv\\appdata\\local\\programs\\python\\python39\\lib\\site-packages (from pandas~=0.24.0->google.colab) (2.8.2)\n",
      "Requirement already satisfied: pytz>=2011k in c:\\users\\evalv\\appdata\\local\\programs\\python\\python39\\lib\\site-packages (from pandas~=0.24.0->google.colab) (2021.3)\n",
      "Requirement already satisfied: numpy>=1.12.0 in c:\\users\\evalv\\appdata\\local\\programs\\python\\python39\\lib\\site-packages (from pandas~=0.24.0->google.colab) (1.24.3)\n",
      "Requirement already satisfied: wcwidth in c:\\users\\evalv\\appdata\\local\\programs\\python\\python39\\lib\\site-packages (from prompt-toolkit<2.0.0,>=1.0.4->ipython~=5.5.0->google.colab) (0.2.5)\n",
      "Requirement already satisfied: pyasn1<0.5.0,>=0.4.6 in c:\\users\\evalv\\appdata\\local\\programs\\python\\python39\\lib\\site-packages (from pyasn1-modules>=0.2.1->google-auth~=1.4.0->google.colab) (0.4.8)\n",
      "Collecting urllib3<1.25,>=1.21.1\n",
      "  Downloading urllib3-1.24.3-py2.py3-none-any.whl (118 kB)\n",
      "Collecting chardet<3.1.0,>=3.0.2\n",
      "  Using cached chardet-3.0.4-py2.py3-none-any.whl (133 kB)\n",
      "Collecting idna<2.9,>=2.5\n",
      "  Downloading idna-2.8-py2.py3-none-any.whl (58 kB)\n",
      "Requirement already satisfied: certifi>=2017.4.17 in c:\\users\\evalv\\appdata\\local\\programs\\python\\python39\\lib\\site-packages (from requests~=2.21.0->google.colab) (2021.10.8)\n",
      "Requirement already satisfied: MarkupSafe>=2.0 in c:\\users\\evalv\\appdata\\local\\programs\\python\\python39\\lib\\site-packages (from jinja2->notebook~=5.2.0->google.colab) (2.0.1)\n",
      "Requirement already satisfied: pyzmq>=23.0 in c:\\users\\evalv\\appdata\\local\\programs\\python\\python39\\lib\\site-packages (from jupyter-client->ipykernel~=4.6.0->google.colab) (25.0.2)\n",
      "Requirement already satisfied: importlib-metadata>=4.8.3 in c:\\users\\evalv\\appdata\\local\\programs\\python\\python39\\lib\\site-packages (from jupyter-client->ipykernel~=4.6.0->google.colab) (6.6.0)\n",
      "Collecting jupyter-client\n",
      "  Downloading jupyter_client-8.1.0-py3-none-any.whl (102 kB)\n",
      "  Downloading jupyter_client-8.0.3-py3-none-any.whl (102 kB)\n",
      "  Downloading jupyter_client-8.0.2-py3-none-any.whl (103 kB)\n",
      "  Downloading jupyter_client-8.0.1-py3-none-any.whl (103 kB)\n",
      "  Downloading jupyter_client-8.0.0-py3-none-any.whl (103 kB)\n",
      "  Downloading jupyter_client-7.4.9-py3-none-any.whl (133 kB)\n",
      "Collecting entrypoints\n",
      "  Downloading entrypoints-0.4-py3-none-any.whl (5.3 kB)\n",
      "Requirement already satisfied: nest-asyncio>=1.5.4 in c:\\users\\evalv\\appdata\\local\\programs\\python\\python39\\lib\\site-packages (from jupyter-client->ipykernel~=4.6.0->google.colab) (1.5.6)\n",
      "Collecting jupyter-client\n",
      "  Downloading jupyter_client-7.4.8-py3-none-any.whl (133 kB)\n",
      "  Downloading jupyter_client-7.4.7-py3-none-any.whl (133 kB)\n",
      "  Downloading jupyter_client-7.4.6-py3-none-any.whl (133 kB)\n",
      "  Downloading jupyter_client-7.4.5-py3-none-any.whl (132 kB)\n",
      "  Downloading jupyter_client-7.4.4-py3-none-any.whl (132 kB)\n",
      "  Downloading jupyter_client-7.4.3-py3-none-any.whl (132 kB)\n",
      "  Downloading jupyter_client-7.4.2-py3-none-any.whl (132 kB)\n",
      "  Downloading jupyter_client-7.4.1-py3-none-any.whl (132 kB)\n",
      "  Downloading jupyter_client-7.4.0-py3-none-any.whl (132 kB)\n",
      "  Downloading jupyter_client-7.3.5-py3-none-any.whl (132 kB)\n",
      "  Downloading jupyter_client-7.3.4-py3-none-any.whl (132 kB)\n",
      "  Downloading jupyter_client-7.3.3-py3-none-any.whl (131 kB)\n",
      "  Downloading jupyter_client-7.3.2-py3-none-any.whl (131 kB)\n",
      "  Downloading jupyter_client-7.3.1-py3-none-any.whl (130 kB)\n",
      "  Downloading jupyter_client-7.3.0-py3-none-any.whl (130 kB)\n",
      "  Downloading jupyter_client-7.2.2-py3-none-any.whl (130 kB)\n",
      "  Downloading jupyter_client-7.2.1-py3-none-any.whl (130 kB)\n",
      "  Downloading jupyter_client-7.2.0-py3-none-any.whl (130 kB)\n",
      "  Downloading jupyter_client-7.1.2-py3-none-any.whl (130 kB)\n",
      "Requirement already satisfied: platformdirs>=2.5 in c:\\users\\evalv\\appdata\\local\\programs\\python\\python39\\lib\\site-packages (from jupyter-core->notebook~=5.2.0->google.colab) (3.5.1)\n",
      "Requirement already satisfied: pywin32>=300 in c:\\users\\evalv\\appdata\\local\\programs\\python\\python39\\lib\\site-packages (from jupyter-core->notebook~=5.2.0->google.colab) (306)\n",
      "Requirement already satisfied: bleach in c:\\users\\evalv\\appdata\\local\\programs\\python\\python39\\lib\\site-packages (from nbconvert->notebook~=5.2.0->google.colab) (6.0.0)\n",
      "Requirement already satisfied: defusedxml in c:\\users\\evalv\\appdata\\local\\programs\\python\\python39\\lib\\site-packages (from nbconvert->notebook~=5.2.0->google.colab) (0.7.1)\n",
      "Requirement already satisfied: mistune<3,>=2.0.3 in c:\\users\\evalv\\appdata\\local\\programs\\python\\python39\\lib\\site-packages (from nbconvert->notebook~=5.2.0->google.colab) (2.0.5)\n",
      "Requirement already satisfied: beautifulsoup4 in c:\\users\\evalv\\appdata\\local\\programs\\python\\python39\\lib\\site-packages (from nbconvert->notebook~=5.2.0->google.colab) (4.12.2)\n",
      "Requirement already satisfied: tinycss2 in c:\\users\\evalv\\appdata\\local\\programs\\python\\python39\\lib\\site-packages (from nbconvert->notebook~=5.2.0->google.colab) (1.2.1)\n",
      "Requirement already satisfied: jupyterlab-pygments in c:\\users\\evalv\\appdata\\local\\programs\\python\\python39\\lib\\site-packages (from nbconvert->notebook~=5.2.0->google.colab) (0.2.2)\n",
      "Requirement already satisfied: packaging in c:\\users\\evalv\\appdata\\local\\programs\\python\\python39\\lib\\site-packages (from nbconvert->notebook~=5.2.0->google.colab) (23.1)\n",
      "Requirement already satisfied: nbclient>=0.5.0 in c:\\users\\evalv\\appdata\\local\\programs\\python\\python39\\lib\\site-packages (from nbconvert->notebook~=5.2.0->google.colab) (0.7.4)\n",
      "Requirement already satisfied: pandocfilters>=1.4.1 in c:\\users\\evalv\\appdata\\local\\programs\\python\\python39\\lib\\site-packages (from nbconvert->notebook~=5.2.0->google.colab) (1.5.0)\n",
      "Requirement already satisfied: zipp>=0.5 in c:\\users\\evalv\\appdata\\local\\programs\\python\\python39\\lib\\site-packages (from importlib-metadata>=4.8.3->jupyter-client->ipykernel~=4.6.0->google.colab) (3.6.0)\n",
      "Requirement already satisfied: jsonschema>=2.6 in c:\\users\\evalv\\appdata\\local\\programs\\python\\python39\\lib\\site-packages (from nbformat->notebook~=5.2.0->google.colab) (4.17.3)\n",
      "Requirement already satisfied: fastjsonschema in c:\\users\\evalv\\appdata\\local\\programs\\python\\python39\\lib\\site-packages (from nbformat->notebook~=5.2.0->google.colab) (2.16.3)\n",
      "Requirement already satisfied: attrs>=17.4.0 in c:\\users\\evalv\\appdata\\local\\programs\\python\\python39\\lib\\site-packages (from jsonschema>=2.6->nbformat->notebook~=5.2.0->google.colab) (23.1.0)\n",
      "Requirement already satisfied: pyrsistent!=0.17.0,!=0.17.1,!=0.17.2,>=0.14.0 in c:\\users\\evalv\\appdata\\local\\programs\\python\\python39\\lib\\site-packages (from jsonschema>=2.6->nbformat->notebook~=5.2.0->google.colab) (0.19.3)\n",
      "Requirement already satisfied: soupsieve>1.2 in c:\\users\\evalv\\appdata\\local\\programs\\python\\python39\\lib\\site-packages (from beautifulsoup4->nbconvert->notebook~=5.2.0->google.colab) (2.4.1)\n",
      "Requirement already satisfied: webencodings in c:\\users\\evalv\\appdata\\local\\programs\\python\\python39\\lib\\site-packages (from bleach->nbconvert->notebook~=5.2.0->google.colab) (0.5.1)\n",
      "Using legacy 'setup.py install' for google.colab, since package 'wheel' is not installed.\n",
      "Using legacy 'setup.py install' for pandas, since package 'wheel' is not installed.\n",
      "Using legacy 'setup.py install' for portpicker, since package 'wheel' is not installed.\n",
      "Using legacy 'setup.py install' for simplegeneric, since package 'wheel' is not installed.\n",
      "Using legacy 'setup.py install' for tornado, since package 'wheel' is not installed.\n",
      "Installing collected packages: six, tornado, entrypoints, simplegeneric, prompt-toolkit, jupyter-client, ipython, urllib3, ipykernel, idna, chardet, requests, portpicker, pandas, notebook, google-auth, google.colab\n",
      "  Attempting uninstall: six\n",
      "    Found existing installation: six 1.16.0\n",
      "    Uninstalling six-1.16.0:\n",
      "      Successfully uninstalled six-1.16.0\n",
      "  Attempting uninstall: tornado\n",
      "    Found existing installation: tornado 6.3.2\n",
      "    Uninstalling tornado-6.3.2:\n",
      "      Successfully uninstalled tornado-6.3.2\n",
      "    Running setup.py install for tornado: started\n",
      "    Running setup.py install for tornado: finished with status 'done'\n"
     ]
    }
   ],
   "source": [
    "!pip install pandas\n",
    "!pip install google.colab"
   ]
  },
  {
   "cell_type": "code",
   "execution_count": 17,
   "outputs": [],
   "source": [
    "import pandas as pd"
   ],
   "metadata": {
    "collapsed": false,
    "ExecuteTime": {
     "start_time": "2023-05-19T00:33:24.159260Z",
     "end_time": "2023-05-19T00:33:24.232394Z"
    }
   }
  },
  {
   "cell_type": "code",
   "execution_count": 18,
   "outputs": [
    {
     "data": {
      "text/plain": "     comment\n0  1comment1\n1  1comment2",
      "text/html": "<div>\n<style scoped>\n    .dataframe tbody tr th:only-of-type {\n        vertical-align: middle;\n    }\n\n    .dataframe tbody tr th {\n        vertical-align: top;\n    }\n\n    .dataframe thead th {\n        text-align: right;\n    }\n</style>\n<table border=\"1\" class=\"dataframe\">\n  <thead>\n    <tr style=\"text-align: right;\">\n      <th></th>\n      <th>comment</th>\n    </tr>\n  </thead>\n  <tbody>\n    <tr>\n      <th>0</th>\n      <td>1comment1</td>\n    </tr>\n    <tr>\n      <th>1</th>\n      <td>1comment2</td>\n    </tr>\n  </tbody>\n</table>\n</div>"
     },
     "execution_count": 18,
     "metadata": {},
     "output_type": "execute_result"
    }
   ],
   "source": [
    "test_comments_post1 = ['1comment1', '1comment2']\n",
    "test_comments_post2 = ['2comment1', '2comment2']\n",
    "comments_post1_df = pd.DataFrame({'comment': test_comments_post1})\n",
    "comments_post2_df = pd.DataFrame({'comment': test_comments_post2})\n",
    "path_main = 'data'\n",
    "comments_post1_df.to_csv(path_main + '\\\\comments1.csv')\n",
    "comments_post2_df.to_csv(path_main + '\\\\comments2.csv')\n",
    "\n",
    "\n",
    "comments_post1_df"
   ],
   "metadata": {
    "collapsed": false,
    "ExecuteTime": {
     "start_time": "2023-05-19T00:33:24.174267Z",
     "end_time": "2023-05-19T00:33:24.232394Z"
    }
   }
  },
  {
   "cell_type": "code",
   "execution_count": 19,
   "outputs": [
    {
     "data": {
      "text/plain": "     comment\n0  2comment1\n1  2comment2",
      "text/html": "<div>\n<style scoped>\n    .dataframe tbody tr th:only-of-type {\n        vertical-align: middle;\n    }\n\n    .dataframe tbody tr th {\n        vertical-align: top;\n    }\n\n    .dataframe thead th {\n        text-align: right;\n    }\n</style>\n<table border=\"1\" class=\"dataframe\">\n  <thead>\n    <tr style=\"text-align: right;\">\n      <th></th>\n      <th>comment</th>\n    </tr>\n  </thead>\n  <tbody>\n    <tr>\n      <th>0</th>\n      <td>2comment1</td>\n    </tr>\n    <tr>\n      <th>1</th>\n      <td>2comment2</td>\n    </tr>\n  </tbody>\n</table>\n</div>"
     },
     "execution_count": 19,
     "metadata": {},
     "output_type": "execute_result"
    }
   ],
   "source": [
    "comments_post2_df"
   ],
   "metadata": {
    "collapsed": false,
    "ExecuteTime": {
     "start_time": "2023-05-19T00:33:24.190224Z",
     "end_time": "2023-05-19T00:33:24.233393Z"
    }
   }
  },
  {
   "cell_type": "code",
   "execution_count": 19,
   "outputs": [],
   "source": [
    "from google.colab import drive\n",
    "drive.mount('data\\comments1.csv')\n",
    "drive.mount('data\\comments2.csv')"
   ],
   "metadata": {
    "collapsed": false,
    "ExecuteTime": {
     "start_time": "2023-05-19T00:33:24.204938Z",
     "end_time": "2023-05-19T00:33:24.233393Z"
    }
   }
  }
 ],
 "metadata": {
  "kernelspec": {
   "display_name": "Python 3",
   "language": "python",
   "name": "python3"
  },
  "language_info": {
   "codemirror_mode": {
    "name": "ipython",
    "version": 2
   },
   "file_extension": ".py",
   "mimetype": "text/x-python",
   "name": "python",
   "nbconvert_exporter": "python",
   "pygments_lexer": "ipython2",
   "version": "2.7.6"
  }
 },
 "nbformat": 4,
 "nbformat_minor": 0
}
