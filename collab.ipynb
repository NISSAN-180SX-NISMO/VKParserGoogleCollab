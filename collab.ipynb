{
 "cells": [
  {
   "cell_type": "code",
   "execution_count": null,
   "metadata": {
    "ExecuteTime": {
     "end_time": "2023-05-19T00:33:24.158264Z",
     "start_time": "2023-05-19T00:32:58.220104Z"
    },
    "collapsed": true
   },
   "outputs": [],
   "source": [
    "%pip install pandas\n",
    "%pip install google.colab\n",
    "%pip install requests"
   ]
  },
  {
   "cell_type": "code",
   "execution_count": null,
   "metadata": {
    "ExecuteTime": {
     "end_time": "2023-05-19T00:33:24.232394Z",
     "start_time": "2023-05-19T00:33:24.159260Z"
    },
    "collapsed": false
   },
   "outputs": [],
   "source": [
    "import pandas as pd\n",
    "import requests\n",
    "import time\n",
    "import re\n",
    "\n",
    "group_id = -29534144\n",
    "post_id1 = 21176327\n",
    "post_id2 = 21171752\n",
    "\n",
    "def clean_string(input_string: str) -> str:\n",
    "    cleaned_string = re.sub(r'\\[.*?\\]', '', input_string)\n",
    "    cleaned_string = re.sub(r',', '', cleaned_string)\n",
    "    cleaned_string = cleaned_string.strip()\n",
    "    return cleaned_string\n",
    "\n",
    "token = ''\n",
    "version = 5.131\n",
    "def GetCommentsBranch(owner_id, post_id, count, start_comment_id = 0, comment_id = 0):\n",
    "    return requests.get('https://api.vk.com/method/wall.getComments',\n",
    "                        params = {\n",
    "                            'v' : version,\n",
    "                            'owner_id' : owner_id,\n",
    "                            'post_id' : post_id,\n",
    "                            'count' : count,\n",
    "                            'start_comment_id' : start_comment_id,\n",
    "                            'comment_id' : comment_id\n",
    "                        },\n",
    "                        headers={\"Authorization\": f\"Bearer {token}\"})\n",
    "\n",
    "def get_comments(owner_id: int, post_id: int) -> list[str]:\n",
    "    COMMS = []\n",
    "    IntPoint = GetCommentsBranch(owner_id, post_id, 1).json().get('response',{})\n",
    "    COUNT = IntPoint.get('current_level_count')\n",
    "    COMMENT_ID = IntPoint.get('items')[0].get('id')\n",
    "    i = 1\n",
    "    while COUNT > 0:\n",
    "        res = GetCommentsBranch(owner_id, post_id, 100 if COUNT > 100 else COUNT, COMMENT_ID).json().get('response',{})\n",
    "        for comment in res.get('items'):\n",
    "            COMMS.append(comment.get('text'))\n",
    "            SUB_COUNT = comment.get('thread').get('count')\n",
    "            SUB_COMMENT_ID = comment.get('id')\n",
    "            si = 1\n",
    "            while SUB_COUNT > 0:\n",
    "                current = 0\n",
    "                subres = GetCommentsBranch(owner_id, post_id,100 if SUB_COUNT > 100 else SUB_COUNT, current,SUB_COMMENT_ID).json()\n",
    "                if not subres.get('response'):\n",
    "                    print(subres)\n",
    "                subres = subres.get('response')\n",
    "                for subcomment in subres.get('items') if subres else []:\n",
    "                    COMMS.append(clean_string(subcomment.get('text')))\n",
    "                    current = subcomment.get('id')\n",
    "                    si+=1\n",
    "\n",
    "                SUB_COUNT -=100\n",
    "            time.sleep(0.25)\n",
    "            i+=1\n",
    "            COMMENT_ID = comment.get('id')\n",
    "        COUNT-=100\n",
    "    return COMMS"
   ]
  },
  {
   "cell_type": "code",
   "execution_count": null,
   "metadata": {
    "ExecuteTime": {
     "end_time": "2023-05-19T00:33:24.232394Z",
     "start_time": "2023-05-19T00:33:24.174267Z"
    },
    "collapsed": false
   },
   "outputs": [],
   "source": [
    "test_comments_post1 = get_comments(group_id, post_id1)\n",
    "test_comments_post2 = get_comments(group_id, post_id2)\n",
    "comments_post1_df = pd.DataFrame({'comment': test_comments_post1})\n",
    "comments_post2_df = pd.DataFrame({'comment': test_comments_post2})\n",
    "comments_post1_df.to_csv('comments1.csv')\n",
    "comments_post2_df.to_csv('comments2.csv')\n",
    "\n",
    "\n",
    "comments_post1_df"
   ]
  },
  {
   "cell_type": "code",
   "execution_count": null,
   "metadata": {},
   "outputs": [],
   "source": []
  },
  {
   "cell_type": "code",
   "execution_count": null,
   "metadata": {
    "ExecuteTime": {
     "end_time": "2023-05-19T00:33:24.233393Z",
     "start_time": "2023-05-19T00:33:24.190224Z"
    },
    "collapsed": false
   },
   "outputs": [],
   "source": [
    "comments_post2_df"
   ]
  }
 ],
 "metadata": {
  "kernelspec": {
   "display_name": "Python 3",
   "language": "python",
   "name": "python3"
  },
  "language_info": {
   "codemirror_mode": {
    "name": "ipython",
    "version": 3
   },
   "file_extension": ".py",
   "mimetype": "text/x-python",
   "name": "python",
   "nbconvert_exporter": "python",
   "pygments_lexer": "ipython3",
   "version": "3.10.5"
  }
 },
 "nbformat": 4,
 "nbformat_minor": 0
}
